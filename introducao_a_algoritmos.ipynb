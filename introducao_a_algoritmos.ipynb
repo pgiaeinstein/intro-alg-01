{
 "cells": [
  {
   "cell_type": "markdown",
   "metadata": {},
   "source": [
    "# Introdução a Algoritmos\n",
    "\n",
    "## Informações sobre o curso\n",
    "\n",
    "### Objetivo\n",
    "\n",
    "O objetivo deste curso é guiar o aluno pelas estruturas e rotinas básicas de uma linguagem de programação.\n",
    "\n",
    "O conteúdo aqui apresentado é necessário para entendimento das técnicas aplicadas nas disciplinas e laboratórios futuros.\n",
    "\n",
    "### Instalação\n",
    "\n",
    "Este documento foi construído através da ferramenta [Jupyter Notebook](http://jupyter.org/) e recomenda-se que as atividades aqui propostas sejam realizadas por meio da mesma ferramenta.\n",
    "\n",
    "Para suporte completo das demais disciplinas do curso, algumas bibliotecas - além da própria linguagem Python - deverão ser instaladas na máquina do aluno. O projeto [Anaconda](https://www.anaconda.com/download/)  oferece um pacote das principais ferramentas necessárias e sua instalação é recomendada.\n",
    "\n",
    "Para baixar o instalador disponível para os sistemas `Windows`, `MacOs` e `Linux` visite o [link para download do projeto Anaconda](https://www.anaconda.com/download/) e escolha a opção do __Python 3.6__.\n",
    "\n",
    "> __Nota:__ A instalação deve ocorrer de forma simples, basta escolher as opções recomendadas e certificar-se de que a opção __\"adicionar Python ao Path do sistema\"__ foi selecionada no decorrer da instalação.\n",
    "\n",
    "Caso o aluno queira instalar as bibliotecas de forma manual, pode optar por apenas realizar o download da linguagem Python. O instalador e outras informações como suporte aos sistemas e o processo de instalação podem ser consultados no [link oficial para download da linguagem](https://www.python.org/downloads/).\n",
    "\n",
    "> __Nota:__ Também verificar se a opção __\"adicionar Python ao Path do sistema\"__ foi selecionada no decorrer da instalação.\n",
    "\n",
    "Como editor de texto, recomenda-se a instalação do [Visual Studio Code](https://code.visualstudio.com/) da Microsoft, o [download pode ser feito através deste link](https://code.visualstudio.com/Download).\n",
    "\n",
    "### Material complementar\n",
    "\n",
    " - [Documentação da linguagem Python](https://docs.python.org/3/index.html).\n",
    " - [Artigo sobre Introdução às linguagens de programação publicado pelo portal DevMedia](https://www.devmedia.com.br/introducao-as-linguagens-de-programacao/25111).\n",
    " - [Comunidade brasileira de Python](https://python.org.br/).\n",
    "\n",
    "### Dúvidas e material completo\n",
    "\n",
    "Dúvidas: [Link para a lista de discussão do curso](https://groups.google.com/forum/#!forum/introduo-a-algoritmos---2018-a-fl-1s).\n",
    "\n",
    "Todos os arquivos do curso, em suas versões mais atualizadas, estão [neste repositório público](https://drive.google.com/drive/folders/1R1cJLNzZyv_X-0AzMJ468xDIqrPrrnYU?usp=sharing).\n",
    "\n",
    "## Python\n",
    "\n",
    "Python é uma linguagem de programação de [alto nível](https://pt.wikipedia.org/wiki/Linguagem_de_programa%C3%A7%C3%A3o_de_alto_n%C3%ADvel) e [interpretada](https://pt.wikipedia.org/wiki/Linguagem_interpretada). Lançada oficialmente em 1991 e preferida pelos pesquisadores e cientistas. A comunidade Python, ultimamente, vê um grande [crescimento em sua utilização](https://medium.com/python-weekly-brazil/python-%C3%A9-a-bola-da-vez-4601f6f543a3).\n",
    "\n",
    "Neste curso, além das estruturas básicas de dados suportados pela linguagem, também veremos as [estruturas de seleção](https://pt.wikipedia.org/wiki/Estrutura_de_sele%C3%A7%C3%A3o) como `if`, `elif` e `else`; as estruturas de repetição ([_loops_](https://pt.wikipedia.org/wiki/Estrutura_de_repeti%C3%A7%C3%A3o))  `for` e `while`; e finalmente as sub-rotinas ([funções](https://pt.wikipedia.org/wiki/Sub-rotina)).\n",
    "\n",
    "## Importando pacotes no Python\n",
    "\n",
    "Para importar pacotes basta incluir o comando `import` seguido pelo nome do pacote:\n",
    "\n",
    "```python\n",
    "import numpy\n",
    "```\n",
    "\n",
    "É possível também simplificar o nome do pacote no momento de sua inclusão como demonstrado abaixo:\n",
    "\n",
    "```python\n",
    "import numpy as np\n",
    "```\n",
    "\n",
    "Desta maneira, podemos acessar o conteúdo da biblioteca __Numpy__ utilizando o [_alias_](https://pt.wikipedia.org/wiki/Alias_(comando) \"__np__\".\n",
    "\n",
    "## Imprimindo texto no terminal\n",
    "\n",
    "Em python utilizamos a função `print()` para imprimir uma mensagem no terminal. A função `print()` é muito útil para \"[_debugar_](https://pt.wikipedia.org/wiki/Debug_(comando))\" um [_script_](https://pt.wikipedia.org/wiki/Linguagem_de_script), facilitando ao programador, encontrar erros ou comportamentos inadequados do código.\n",
    "\n",
    "```python\n",
    "print(\"Texto que quero imprimir no terminal\")\n",
    "```"
   ]
  },
  {
   "cell_type": "code",
   "execution_count": 4,
   "metadata": {},
   "outputs": [
    {
     "name": "stdout",
     "output_type": "stream",
     "text": [
      "O valor da variável var_a é 33\n"
     ]
    }
   ],
   "source": [
    "var_a = 33\n",
    "\n",
    "# Pyrhon >= 3.6\n",
    "\n",
    "print(f'O valor da variável var_a é {var_a}')"
   ]
  },
  {
   "cell_type": "code",
   "execution_count": 10,
   "metadata": {},
   "outputs": [],
   "source": [
    "novo_dict = dict()"
   ]
  },
  {
   "cell_type": "code",
   "execution_count": 11,
   "metadata": {},
   "outputs": [
    {
     "data": {
      "text/plain": [
       "{}"
      ]
     },
     "execution_count": 11,
     "metadata": {},
     "output_type": "execute_result"
    }
   ],
   "source": [
    "novo_dict"
   ]
  },
  {
   "cell_type": "code",
   "execution_count": 16,
   "metadata": {},
   "outputs": [],
   "source": [
    "novo_dict['nome'] = 'Fernando'\n",
    "novo_dict['sexo'] = 'M'\n",
    "novo_dict['telefone'] = {'regiao' : 'SP', 'numero' : '4444-2222'}"
   ]
  },
  {
   "cell_type": "code",
   "execution_count": 17,
   "metadata": {},
   "outputs": [
    {
     "data": {
      "text/plain": [
       "{'nome': 'Fernando',\n",
       " 'sexo': 'M',\n",
       " 'telefone': {'regiao': 'SP', 'numero': '4444-2222'}}"
      ]
     },
     "execution_count": 17,
     "metadata": {},
     "output_type": "execute_result"
    }
   ],
   "source": [
    "novo_dict"
   ]
  },
  {
   "cell_type": "code",
   "execution_count": 21,
   "metadata": {},
   "outputs": [
    {
     "data": {
      "text/plain": [
       "'4444-2222'"
      ]
     },
     "execution_count": 21,
     "metadata": {},
     "output_type": "execute_result"
    }
   ],
   "source": [
    "novo_dict['telefone']['numero']"
   ]
  },
  {
   "cell_type": "code",
   "execution_count": 22,
   "metadata": {},
   "outputs": [],
   "source": [
    "import json"
   ]
  },
  {
   "cell_type": "code",
   "execution_count": 26,
   "metadata": {},
   "outputs": [],
   "source": [
    "json.dump(novo_dict, open('output.json', 'w'))"
   ]
  },
  {
   "cell_type": "code",
   "execution_count": 29,
   "metadata": {},
   "outputs": [
    {
     "data": {
      "text/plain": [
       "'{\"nome\": \"Fernando\", \"sexo\": \"M\", \"telefone\": {\"regiao\": \"SP\", \"numero\": \"4444-2222\"}}'"
      ]
     },
     "execution_count": 29,
     "metadata": {},
     "output_type": "execute_result"
    }
   ],
   "source": [
    "json.dumps(novo_dict)"
   ]
  },
  {
   "cell_type": "code",
   "execution_count": 27,
   "metadata": {},
   "outputs": [],
   "source": [
    "outro_dict = json.load(open('output.json', 'r'))"
   ]
  },
  {
   "cell_type": "code",
   "execution_count": 28,
   "metadata": {},
   "outputs": [
    {
     "data": {
      "text/plain": [
       "{'nome': 'Fernando',\n",
       " 'sexo': 'M',\n",
       " 'telefone': {'regiao': 'SP', 'numero': '4444-2222'}}"
      ]
     },
     "execution_count": 28,
     "metadata": {},
     "output_type": "execute_result"
    }
   ],
   "source": [
    "outro_dict"
   ]
  },
  {
   "cell_type": "code",
   "execution_count": null,
   "metadata": {},
   "outputs": [],
   "source": []
  },
  {
   "cell_type": "code",
   "execution_count": 9,
   "metadata": {},
   "outputs": [
    {
     "data": {
      "text/plain": [
       "False"
      ]
     },
     "execution_count": 9,
     "metadata": {},
     "output_type": "execute_result"
    }
   ],
   "source": [
    "& ---> and\n",
    "| ---> or\n",
    "! ---> not"
   ]
  },
  {
   "cell_type": "code",
   "execution_count": null,
   "metadata": {},
   "outputs": [],
   "source": []
  },
  {
   "cell_type": "code",
   "execution_count": 39,
   "metadata": {},
   "outputs": [],
   "source": [
    "lista = [2, 55, 36, 54, 27, 99, 2022]\n",
    "lista_par = list()\n",
    "lista_impar = []"
   ]
  },
  {
   "cell_type": "code",
   "execution_count": 42,
   "metadata": {},
   "outputs": [],
   "source": [
    "for item in lista:\n",
    "    if item % 2 == 0:\n",
    "        lista_par.append(item)\n",
    "    else:\n",
    "        lista_impar.append(item)"
   ]
  },
  {
   "cell_type": "code",
   "execution_count": 45,
   "metadata": {},
   "outputs": [],
   "source": [
    "lista = ['Fernando', 2, 3.5, True, False]"
   ]
  },
  {
   "cell_type": "code",
   "execution_count": 52,
   "metadata": {},
   "outputs": [
    {
     "name": "stdout",
     "output_type": "stream",
     "text": [
      "Indice {indice} valor {item} - {3}\n",
      "Indice {indice} valor {item} - {3}\n",
      "Indice {indice} valor {item} - {3}\n",
      "Indice {indice} valor {item} - {3}\n",
      "Indice {indice} valor {item} - {3}\n"
     ]
    }
   ],
   "source": [
    "for indice, item in enumerate(lista):\n",
    "    print(r'Indice {indice} valor {item} - {3}')"
   ]
  },
  {
   "cell_type": "code",
   "execution_count": 61,
   "metadata": {},
   "outputs": [
    {
     "name": "stdout",
     "output_type": "stream",
     "text": [
      "1\n",
      "2\n",
      "3\n",
      "4\n",
      "5\n",
      "6\n",
      "7\n",
      "8\n",
      "9\n",
      "10\n"
     ]
    }
   ],
   "source": [
    "contador = 0\n",
    "\n",
    "while contador < 10:\n",
    "    contador += 1\n",
    "    print(contador)"
   ]
  },
  {
   "cell_type": "code",
   "execution_count": 43,
   "metadata": {},
   "outputs": [
    {
     "data": {
      "text/plain": [
       "[2, 36, 54, 2022]"
      ]
     },
     "execution_count": 43,
     "metadata": {},
     "output_type": "execute_result"
    }
   ],
   "source": [
    "lista_par"
   ]
  },
  {
   "cell_type": "code",
   "execution_count": 44,
   "metadata": {},
   "outputs": [
    {
     "data": {
      "text/plain": [
       "[55, 27, 99]"
      ]
     },
     "execution_count": 44,
     "metadata": {},
     "output_type": "execute_result"
    }
   ],
   "source": [
    "lista_impar"
   ]
  },
  {
   "cell_type": "code",
   "execution_count": null,
   "metadata": {},
   "outputs": [],
   "source": [
    "df = df[(df['sexo'] == 'feminino') & (df['idade'] < 50)]"
   ]
  },
  {
   "cell_type": "code",
   "execution_count": null,
   "metadata": {
    "scrolled": true
   },
   "outputs": [],
   "source": [
    "print('Olá Mundo!')\n",
    "\n",
    "aula = 'Algum texto'\n",
    "print(aula)\n",
    "\n",
    "print('O Resultado de 3 + 3 é : {0}'.format(3 + 3))"
   ]
  },
  {
   "cell_type": "markdown",
   "metadata": {},
   "source": [
    "## Comentários\n",
    "\n",
    "Comentários são a [chave do sucesso em qualquer código de computador](http://www.linhadecodigo.com.br/artigo/2918/a-importancia-de-uma-boa-documentacao.aspx). Além de ajudar outras pessoas a entender o raciocínio aplicado, também facilitam o programador nos suportes futuros ao código.\n",
    "\n",
    "Em Python, podemos utilizar comentários de duas formas:\n",
    "\n",
    "1. Comentários de uma linha\n",
    "```python\n",
    "# Comentário de uma linha...\n",
    "```\n",
    "2. Comentários de várias linhas\n",
    "```python\n",
    "'''\n",
    "Comentário\n",
    "            de\n",
    "                várias\n",
    "                        linhas...\n",
    "'''\n",
    "```\n",
    "\n",
    "Os comentários não são interpretados pelo [interpretador da linguagem](https://pt.wikipedia.org/wiki/Interpretador), isso é, seu conteúdo é ignorado."
   ]
  },
  {
   "cell_type": "markdown",
   "metadata": {},
   "source": [
    "## Tipos de dados em Python\n",
    "\n",
    "Assim como em outras linguagens, Python possui [vários tipos de dados nativos](https://docs.python.org/3/library/datatypes.html), ou seja, é possível dizer que uma variável é do tipo inteiro (1, 4, 7, 9, 15000, ...), um ponto flutuante (2.5, 77.4, 13.1416, …), uma lista, um conjunto ou mesmo um texto.\n",
    "\n",
    "Abaixo uma tabela resumindo os tipos nativos encontrados na linguagem Python:\n",
    "\n",
    "| Tipo | Descrição | Sintaxe |\n",
    "|:---:|:---:|:---:|\n",
    "| ```str``` | Uma [sequência de caracteres](https://pt.wikipedia.org/wiki/Cadeia_de_caracteres) | ```'Um texto Qualquer'``` |\n",
    "| ```list``` | Uma [lista](https://pt.wikipedia.org/wiki/Lista) mutável | ```['Texto', True, 44.8]``` |\n",
    "| ```tuple``` | [Tupla](https://pt.wikipedia.org/wiki/Enupla) imutável | ```('Texto', True, 44.8)``` |\n",
    "| ```set``` | [Conjunto](https://pt.wikipedia.org/wiki/Conjunto) não ordenado, não contendo elementos duplicados | ```set(['Texto', True, 44.8])``` |\n",
    "| ```dict``` | [Conjunto](https://pt.wikipedia.org/wiki/Conjunto) associativo, na estrutura de chave: valor | ```{'chave_1' : valor_1, 'chave_2' : valor_2}``` |\n",
    "| ```int``` | Números inteiros | ```36900``` |\n",
    "| ```float``` | [Ponto flutuante](https://pt.wikipedia.org/wiki/V%C3%ADrgula_flutuante) | ```13.1416``` |\n",
    "| ```complex``` | [Números complexos](https://pt.wikipedia.org/wiki/N%C3%BAmero_complexo) | ```4+5i``` |\n",
    "| ```bool``` | [Booleanos](https://pt.wikipedia.org/wiki/Booleano) | ```True ou False``` |"
   ]
  },
  {
   "cell_type": "code",
   "execution_count": 8,
   "metadata": {},
   "outputs": [],
   "source": [
    "lista = [1, 2, 5, 6, 1, 7, 6]\n",
    "lista_set = set(lista)\n",
    "lista_tupla = tuple(lista)"
   ]
  },
  {
   "cell_type": "code",
   "execution_count": 6,
   "metadata": {},
   "outputs": [
    {
     "data": {
      "text/plain": [
       "[1, 2, 5, 6, 1, 7, 6]"
      ]
     },
     "execution_count": 6,
     "metadata": {},
     "output_type": "execute_result"
    }
   ],
   "source": [
    "lista"
   ]
  },
  {
   "cell_type": "code",
   "execution_count": 7,
   "metadata": {},
   "outputs": [
    {
     "data": {
      "text/plain": [
       "{1, 2, 5, 6, 7}"
      ]
     },
     "execution_count": 7,
     "metadata": {},
     "output_type": "execute_result"
    }
   ],
   "source": [
    "lista_set"
   ]
  },
  {
   "cell_type": "code",
   "execution_count": 9,
   "metadata": {},
   "outputs": [
    {
     "data": {
      "text/plain": [
       "(1, 2, 5, 6, 1, 7, 6)"
      ]
     },
     "execution_count": 9,
     "metadata": {},
     "output_type": "execute_result"
    }
   ],
   "source": [
    "lista_tupla"
   ]
  },
  {
   "cell_type": "code",
   "execution_count": 16,
   "metadata": {},
   "outputs": [
    {
     "data": {
      "text/plain": [
       "list"
      ]
     },
     "execution_count": 16,
     "metadata": {},
     "output_type": "execute_result"
    }
   ],
   "source": [
    "type(lista)"
   ]
  },
  {
   "cell_type": "code",
   "execution_count": null,
   "metadata": {},
   "outputs": [],
   "source": []
  },
  {
   "cell_type": "markdown",
   "metadata": {},
   "source": [
    "## Operadores aritméticos, lógicos e básicos de comparação\n",
    "\n",
    "Os operadores matemáticos nos possibilitam executar cálculos matemáticos sejam eles simples ou complexos.\n",
    "\n",
    "Já os [operadores lógicos](https://pt.wikipedia.org/wiki/Operador_l%C3%B3gico) nos permitem realizar comparações entre variáveis binárias definidas, ou seja, retorna positivo ou negativo dada uma determinada expressão.\n",
    "\n",
    "### Operadores aritméticos\n",
    "\n",
    " Operador | Descrição \n",
    " :---:|:---: \n",
    "     +    | Adição \n",
    "     -    | Subtração\n",
    "     *    | Multiplicação\n",
    "     /    | Divisão \n",
    "     %    | Módulo (resto)\n",
    "     //   | Divisão (parte inteira)\n",
    "     **   | Exponenciação "
   ]
  },
  {
   "cell_type": "code",
   "execution_count": 18,
   "metadata": {},
   "outputs": [
    {
     "name": "stdout",
     "output_type": "stream",
     "text": [
      "7 + 2 = 9\n",
      "7 - 2 =  5\n",
      "7 * 2 =  14\n",
      "7 / 2 =  3.5\n",
      "7 % 2 =  1\n",
      "7 // 2 =  3\n",
      "7 ** 2 =  49\n"
     ]
    }
   ],
   "source": [
    "print(f'7 + 2 = {7 + 2}') # opração de adição\n",
    "print('7 - 2 = ', 7 - 2) # operação de subtração\n",
    "print('7 * 2 = ', 7 * 2) # operação de multiplicação\n",
    "print('7 / 2 = ', 7 / 2) # operação de divisão\n",
    "print('7 % 2 = ', 7 % 2) # resto da divisão (módulo)\n",
    "print('7 // 2 = ', 7 // 2) # divisão absoluta\n",
    "print('7 ** 2 = ', 7 ** 2) # potência (exponenciação)"
   ]
  },
  {
   "cell_type": "code",
   "execution_count": 21,
   "metadata": {},
   "outputs": [
    {
     "data": {
      "text/plain": [
       "2.0"
      ]
     },
     "execution_count": 21,
     "metadata": {},
     "output_type": "execute_result"
    }
   ],
   "source": [
    "import math\n",
    "\n",
    "math.sqrt(4)"
   ]
  },
  {
   "cell_type": "markdown",
   "metadata": {},
   "source": [
    "### Operadores lógicos\n",
    "\n",
    "São os operadores **and**, **or** e **not** que vimos respeitar as características mostradas abaixo:\n",
    "\n",
    "#### Operador and\n",
    "\n",
    "| A | B | Saída |\n",
    "|---|---|-------|\n",
    "| 0 | 0 |   0   |\n",
    "| 0 | 1 |   0   |\n",
    "| 1 | 0 |   0   |\n",
    "| 1 | 1 |   1   |\n",
    "\n",
    "\n",
    "> É verdade se as duas variáveis de entrada forem verdade.\n",
    "\n",
    "\n",
    "#### Operador or\n",
    "\n",
    "| A | B | Saída |\n",
    "|---|---|-------|\n",
    "| 0 | 0 |   0   |\n",
    "| 0 | 1 |   1   |\n",
    "| 1 | 0 |   1   |\n",
    "| 1 | 1 |   1   |\n",
    "\n",
    "> É verdade se ao menos uma das variáveis de entrada seja verdadeira.\n",
    "\n",
    "#### Operador not\n",
    "\n",
    "| A | Saída |\n",
    "|---|-------|\n",
    "| 0 |   1   |\n",
    "| 1 |   0   |\n",
    "\n",
    "> É verdade quando a variável de entrada é falsa e falsa quando a variável é verdadeira.\n",
    "\n",
    "Vamos verificar o resultado das saídas realizando algumas operações lógicas:"
   ]
  },
  {
   "cell_type": "code",
   "execution_count": 22,
   "metadata": {},
   "outputs": [
    {
     "name": "stdout",
     "output_type": "stream",
     "text": [
      "False\n",
      "True\n",
      "True\n",
      "True\n",
      "True\n",
      "False\n"
     ]
    }
   ],
   "source": [
    "# Criamos 3 variáveis do tipo Boolean, var_1 e var_3 receberam valor True(1 ou verdadeiro) e\n",
    "# a variável var_2 recebeu o valor False (0 ou falso)\n",
    "\n",
    "var_1 = True\n",
    "var_2 = False\n",
    "var_3 = True\n",
    "\n",
    "print(var_1 and var_2) # Retorna False pois 1 and 0 = 0\n",
    "print(var_1 and var_3) # Retorna True pois 1 and 1 = 1\n",
    "\n",
    "print(var_1 or var_2) # Retorna True pois 1 or 0 = 1\n",
    "print(var_1 or var_3) # Retorna True pois 1 or 1 = 1\n",
    "\n",
    "print(not var_2) # Retorna True pois not 0 = 1\n",
    "print(not var_1) # Retorna False pois not 1 = 0"
   ]
  },
  {
   "cell_type": "code",
   "execution_count": 26,
   "metadata": {},
   "outputs": [
    {
     "data": {
      "text/plain": [
       "True"
      ]
     },
     "execution_count": 26,
     "metadata": {},
     "output_type": "execute_result"
    }
   ],
   "source": [
    "30 < 33 and 40 > 20"
   ]
  },
  {
   "cell_type": "markdown",
   "metadata": {},
   "source": [
    "### Operadores básicos de comparação\n",
    "\n",
    "Comparam dois valores e retornam `True` ou `False` dependendo dos parâmetros de _input_.\n",
    "\n",
    "| Operador | Descrição | Sintaxe |\n",
    "|:---:|:---:|:---:|\n",
    "| Igualdade | Compara a igualdade entre dois valores | `==` |\n",
    "| Maior que | Verifica se o primeiro valor é maior que o segundo valor | `>` |\n",
    "| Menor que | Verifica se o primeiro valor é menor que o segundo valor | `<` |\n",
    "| Maior ou igual | Verifica se o primeiro valor é maior ou igual ao segundo valor | `>=` |\n",
    "| Menor ou igual | Verifica se o primeiro valor é menor ou igual ao segundo valor | `<=` |\n",
    "| Diferente | Verifica se o primeiro valor é diferente do segundo valor | `!=` |\n",
    "\n",
    "Verificando o output dos operadores:\n",
    "\n",
    "```python\n",
    "print(2 == 2) # Imprime True\n",
    "print(2 > 3) # Imprime False\n",
    "print(2 < 3) # Imprime True\n",
    "print(3 >= 3) # Imprime True\n",
    "print(3 <= 2) # Imprime False\n",
    "print(3 != 3) # Imprime False\n",
    "```"
   ]
  },
  {
   "cell_type": "code",
   "execution_count": 27,
   "metadata": {},
   "outputs": [
    {
     "name": "stdout",
     "output_type": "stream",
     "text": [
      "True\n",
      "False\n",
      "True\n",
      "True\n",
      "False\n",
      "False\n"
     ]
    }
   ],
   "source": [
    "print(2 == 2) # Imprime True\n",
    "print(2 > 3) # Imprime False\n",
    "print(2 < 3) # Imprime True\n",
    "print(3 >= 3) # Imprime True\n",
    "print(3 <= 2) # Imprime False\n",
    "print(3 != 3) # Imprime False"
   ]
  },
  {
   "cell_type": "markdown",
   "metadata": {},
   "source": [
    "## Strings\n",
    "\n",
    "Uma [string](https://docs.python.org/2/library/string.html) é qualquer cadeia de caracteres. Pode ser formada de uma única palavra como um nome, uma cor ou pode conter *n* palavras como uma mensagem, um texto...\n",
    "\n",
    "```python\n",
    "minha_string = \"Eu sou uma String\"\n",
    "```\n",
    "\n",
    "Python tem uma variedade de funções prontas para operações com os diversos tipos de dados que suporta. \n",
    "\n",
    "Para uma visão completa sobre o que podemos fazer com as variáveis do tipo ```string``` utilizando estas funções nativas da linguagem, basta consultar a [documentação](https://docs.python.org/2/library/string.html).\n",
    "\n",
    "### Uppercase e Lowercase\n",
    "\n",
    "Podemos manipular cada caractere da nossa string:\n",
    "\n",
    "```python\n",
    "minha_string = \"Eu sou uma String\"\n",
    "```\n",
    "Deixando toda a string em caixa baixa ou alta, por exemplo:"
   ]
  },
  {
   "cell_type": "code",
   "execution_count": 28,
   "metadata": {
    "scrolled": true
   },
   "outputs": [
    {
     "name": "stdout",
     "output_type": "stream",
     "text": [
      "EU SOU UMA STRING!\n",
      "eu sou uma string!\n"
     ]
    }
   ],
   "source": [
    "minha_string = 'Eu sou uma String!'\n",
    "\n",
    "# Imprime o resultado da função upper\n",
    "print(minha_string.upper())\n",
    "# Imprime o resultado da função lower\n",
    "print(minha_string.lower())"
   ]
  },
  {
   "cell_type": "markdown",
   "metadata": {},
   "source": [
    "### Replace \n",
    "\n",
    "Podemos também converter todo caractere \"a\" pelo caractere \"o\", por exemplo:"
   ]
  },
  {
   "cell_type": "code",
   "execution_count": 29,
   "metadata": {},
   "outputs": [
    {
     "name": "stdout",
     "output_type": "stream",
     "text": [
      "Abocoxi, bonono, obocote, sorvete e bototo!\n"
     ]
    }
   ],
   "source": [
    "nova_string = 'Abacaxi, banana, abacate, sorvete e batata!'\n",
    "\n",
    "# Imprime o resultado da função replace\n",
    "print(nova_string.replace('a', 'o'))"
   ]
  },
  {
   "cell_type": "code",
   "execution_count": 30,
   "metadata": {},
   "outputs": [],
   "source": [
    "teste_hl7 = 'ID|||555-44-4444||EVERYWOMAN^EVE^E^^^^L|JONES|196203520|F|||153 FERNWOOD DR.^^STATESVILLE^OH^35292||(206)3345232|(206)752-121||||AC555444444||67-A4335^OH^20030520'"
   ]
  },
  {
   "cell_type": "code",
   "execution_count": 35,
   "metadata": {},
   "outputs": [],
   "source": [
    "texto = 'Para compartilhar esse conteúdo por favor utilize o link ou as ferramentas oferecidas na página Textos fotos artes e vídeos da Folha estão protegidos pela legislação brasileira sobre direito autoral Não reproduza o conteúdo do jornal em qualquer meio de comunicação eletrônico ou impresso sem autorização da Folhapress pesquisafolhapresscombr As regras têm como objetivo proteger o investimento que a Folha faz na qualidade de seu jornalismo Se precisa copiar trecho de texto da Folha para uso privado por favor loguese como assinante ou cadastrado'"
   ]
  },
  {
   "cell_type": "markdown",
   "metadata": {},
   "source": [
    "A função ```replace()``` recebe dois parâmetros dentro de seus parenteses separados por uma vírgula. O primeiro é o caractere que desejamos modificar e o segundo é o caractere por qual desejamos substituir o primeiro. O resultado desta operação é demonstrado acima.\n",
    "\n",
    "Verifique também que mesmo assim a função não modificou a primeira letra \"A\" da palavra \"Abacaxi\". Isso ocorre pois a a função replace é [*case sensitive*](https://pt.wikipedia.org/wiki/Case-sensitive), ou seja, há diferença entre letras maiúsculas e minúsculas. Como fornecemos a letra \"a\" minúscula para a função, a mesma não alterou a letra \"A\" maiúscula.\n",
    "\n",
    "### Find\n",
    "\n",
    "Podemos procurar se, nessa string, encontramos outra string. Por exemplo, será que encontramos a string ```'banana'``` em nossa variável ```nova_string```?"
   ]
  },
  {
   "cell_type": "code",
   "execution_count": null,
   "metadata": {
    "scrolled": true
   },
   "outputs": [],
   "source": [
    "print(nova_string.find('banana'))"
   ]
  },
  {
   "cell_type": "markdown",
   "metadata": {},
   "source": [
    "Note que ao buscar a ocorrência de ```'banana'``` na variável ```nova_string``` o resultado é o número **9**. Tente contar a posição de cada caractere da variável ```nova_string```, você verá que o início da palavra \"banana\" na variável ```nova_string``` é exatamente a **9ª** posição da cadeia."
   ]
  },
  {
   "cell_type": "markdown",
   "metadata": {},
   "source": [
    "## Listas\n",
    "\n",
    "Listas são estruturas que agrupam algum tipo de dado e permitem iterações e acesso direto a cada dado.\n",
    "\n",
    "Tanto um [`array`](https://docs.python.org/3/library/array.html) como uma [`list`](https://docs.python.org/3.1/tutorial/datastructures.html) são listas. A diferença é que uma lista pode guardar qualquer tipo de dado. Já um array, apenas armazena um tipo exclusivo de dado em sua estrutura.\n",
    "\n",
    "```python\n",
    "# vamos declarar uma lista vazia\n",
    "minha_lista = list()\n",
    "\n",
    "# outra maneira\n",
    "minha_outra_lista = []\n",
    "\n",
    "print(type(minha_lista))\n",
    "print(type(minha_outra_lista))\n",
    "```\n",
    "\n",
    "Em Python, arrays são utilizados em casos específicos, não vamos abordar sua utilização neste notebook."
   ]
  },
  {
   "cell_type": "code",
   "execution_count": 38,
   "metadata": {},
   "outputs": [
    {
     "name": "stdout",
     "output_type": "stream",
     "text": [
      "<class 'list'>\n",
      "<class 'list'>\n"
     ]
    }
   ],
   "source": [
    "# vamos declarar uma lista vazia\n",
    "minha_lista = list()\n",
    "\n",
    "# outra maneira\n",
    "minha_outra_lista = []\n",
    "\n",
    "print(type(minha_lista))\n",
    "print(type(minha_outra_lista))"
   ]
  },
  {
   "cell_type": "markdown",
   "metadata": {},
   "source": [
    "### Operações Básicas com Listas\n",
    "\n",
    "Vamos declarar uma lista de nomes e verificar algumas propriedades e ações que podemos executar em uma lista:\n",
    "\n",
    "```python\n",
    "minha_lista = ['Joaquim', 'Carlos', 'Luciana', 'Marcelo', 'Ellen', 'Márcia']\n",
    "```\n",
    "\n",
    "Para acessar um dado específico desta lista podemos indicar seu índice como demonstrado abaixo:\n",
    "\n",
    "```python\n",
    "minha_lista[1]\n",
    "```"
   ]
  },
  {
   "cell_type": "code",
   "execution_count": null,
   "metadata": {},
   "outputs": [],
   "source": [
    "# Declaramos a lista\n",
    "minha_lista = ['Joaquim', 'Carlos', 'Luciana', 'Marcelo', 'Ellen', 'Márcia']\n",
    "\n",
    "# Acessamos o dado guardado no índice 1 da lista\n",
    "minha_lista[1]"
   ]
  },
  {
   "cell_type": "markdown",
   "metadata": {},
   "source": [
    "Verifique que o índice 1 da lista retornou o valor `'Carlos'`, porém quando analisamos nossa lista declarada, o nome `'Carlos'` encontra-se na segunda posição da lista.\n",
    "\n",
    "Isso ocorre pois as listas sempre iniciam no índice __0__, desta forma, para acessar o primeiro valor da lista, devemos passar o índice correto.\n",
    "\n",
    "```python\n",
    "minha_lista[0]\n",
    "```\n",
    "\n",
    "Verifique o _output_:"
   ]
  },
  {
   "cell_type": "code",
   "execution_count": null,
   "metadata": {},
   "outputs": [],
   "source": [
    "minha_lista[0]"
   ]
  },
  {
   "cell_type": "markdown",
   "metadata": {},
   "source": [
    "Acessando o índice __0__ da lista temos o _output_ desejado.\n",
    "\n",
    "Para alterar o valor de qualquer posição da lista, basta atribuir um novo valor ao índice desta forma:\n",
    "\n",
    "```python\n",
    "minha_lista[0] = 'Amarelo'\n",
    "minha_lista[3] = 33\n",
    "```"
   ]
  },
  {
   "cell_type": "code",
   "execution_count": null,
   "metadata": {},
   "outputs": [],
   "source": [
    "minha_lista[0] = 'Amarelo'\n",
    "minha_lista[3] = 33\n",
    "\n",
    "minha_lista"
   ]
  },
  {
   "cell_type": "markdown",
   "metadata": {},
   "source": [
    "Verifique que modificamos `minha_lista` e alteramos os valores dos índices __0__ e __3__.\n",
    "\n",
    "Podemos também selecionar um _range_ de dados na lista, para isso basta utilizar a seguinte notação:\n",
    "\n",
    "```python\n",
    "print(minha_lista[0:4])\n",
    "```\n",
    "> __Nota:__ Retorna uma nova lista contendo o conteúdo de `minha_lista` da  posição 0 inclusive e 4 exclusive.\n",
    "\n",
    "Como estamos partindo do início da lista, o 0 pode ser omitido;\n",
    "\n",
    "```python\n",
    "print(minha_lista[:4])\n",
    "```\n",
    "\n",
    "Podemos imprimir a lista completa sem passar nenhum atributo de início ou fim.\n",
    "\n",
    "```python\n",
    "print(minha_lista[:])\n",
    "```\n",
    "\n",
    "Ou podemos simplesmente escolher um _range_ genérico como demonstrado acima:\n",
    "\n",
    "```python\n",
    "print(minha_lista[3:6])\n",
    "```"
   ]
  },
  {
   "cell_type": "code",
   "execution_count": null,
   "metadata": {},
   "outputs": [],
   "source": [
    "print(minha_lista[0:4])\n",
    "print(minha_lista[:4])\n",
    "print(minha_lista[:])\n",
    "print(minha_lista[3:6])"
   ]
  },
  {
   "cell_type": "markdown",
   "metadata": {},
   "source": [
    "Podemos criar listas bidimensionais como matrizes, por exemplo. Para isso basta incluir um novo bloco de listas dentro da nossa lista:\n",
    "\n",
    "```python\n",
    "lista_bidimensional = [[1, 2], [3, 4], [5, 6]]\n",
    "```\n",
    "\n",
    "Para acessar a primeira lista da nossa lista bidimensional, basta acessar o índice da lista pai:\n",
    "\n",
    "```python\n",
    "print(lista_bidimensional[0])\n",
    "```\n",
    "\n",
    "Agora se quisermos acessar o segundo valor da segunda lista interna a nossa lista, ou seja o valor __4__, podemos atingir isso da seguinte forma:\n",
    "\n",
    "```python\n",
    "print(lista_bidimensional[1][1])\n",
    "```"
   ]
  },
  {
   "cell_type": "code",
   "execution_count": null,
   "metadata": {},
   "outputs": [],
   "source": [
    "lista_bidimensional = [[1, 2], [3, 4], [5, 6]]\n",
    "\n",
    "print(lista_bidimensional[0])\n",
    "print(lista_bidimensional[1][1])"
   ]
  },
  {
   "cell_type": "markdown",
   "metadata": {},
   "source": [
    "### Funções Auxiliares\n",
    "\n",
    "Python vem com algumas funções auxiliares para utilizarmos junto das listas:\n",
    "\n",
    "#### append()\n",
    "\n",
    "Inclui no final da lista o que foi passado como parâmetro `append(parâmetro)`, por exemplo, para incluir o número 3 ao final de uma lista, fazemos:\n",
    "\n",
    "```python\n",
    "lista.append(3)\n",
    "```\n",
    "\n",
    "#### insert()\n",
    "\n",
    "Nos permite incluir um novo item em uma posição desejada, recebe dois parâmetros `insert(índice, valor)`; O primeiro é a posição em que desejamos incluir o novo item e o segundo é o item que desejamos incluir em nossa lista, por exemplo, para incluir no índice 2 o valor `'Morango'`, fazemos:\n",
    "\n",
    "```python\n",
    "lista.insert(2, 'Morango')\n",
    "```"
   ]
  },
  {
   "cell_type": "code",
   "execution_count": null,
   "metadata": {},
   "outputs": [],
   "source": [
    "lista = ['Abacaxi', 'Banana', 'Laranja']\n",
    "lista.append(3)\n",
    "lista.insert(2, 'Morango')\n",
    "\n",
    "lista"
   ]
  },
  {
   "cell_type": "markdown",
   "metadata": {},
   "source": [
    "#### remove()\n",
    "\n",
    "Nos permite remover um certo valor da nossa lista `remove(valor)`, por exemplo, vamos remover a string `'Morango'` da `lista`:\n",
    "\n",
    "```python\n",
    "lista.remove('Morango')\n",
    "```"
   ]
  },
  {
   "cell_type": "code",
   "execution_count": null,
   "metadata": {},
   "outputs": [],
   "source": [
    "lista.remove('Morango')\n",
    "\n",
    "lista"
   ]
  },
  {
   "cell_type": "markdown",
   "metadata": {},
   "source": [
    "#### sorted()\n",
    "\n",
    "Nos permite ordenar uma lista e leva como parâmetro a lista que se deseja ordenar `sorted(lista)`. Para aplicar ordenação a nossa lista, fazemos:\n",
    "\n",
    "```python\n",
    "sorted(lista)\n",
    "```"
   ]
  },
  {
   "cell_type": "code",
   "execution_count": null,
   "metadata": {},
   "outputs": [],
   "source": [
    "lista = [33, 2, 565, 1, 0, -22]\n",
    "\n",
    "sorted(lista)\n",
    "\n",
    "lista = [[1, 'a'], [44, 33], [78, 97]]\n",
    "lista[2][-1]\n",
    "\n",
    "nome = 'Fernando'"
   ]
  },
  {
   "cell_type": "markdown",
   "metadata": {},
   "source": [
    "#### len()\n",
    "\n",
    "Retorna o tamanho de uma lista e para isso recebe a lista em questão como parâmetro de entrada `len(lista)`. Para aplicar a função `len()` em nossa lista, fazemos:\n",
    "\n",
    "```python\n",
    "len(lista)\n",
    "```"
   ]
  },
  {
   "cell_type": "code",
   "execution_count": 39,
   "metadata": {},
   "outputs": [
    {
     "data": {
      "text/plain": [
       "7"
      ]
     },
     "execution_count": 39,
     "metadata": {},
     "output_type": "execute_result"
    }
   ],
   "source": [
    "len(lista)"
   ]
  },
  {
   "cell_type": "markdown",
   "metadata": {},
   "source": [
    "#### max()\n",
    "\n",
    "Retorna o maior valor de uma lista e para isso recebe a lista em questão como parâmetro de entrada `max(lista)`. Para aplicar a função `max()` em nossa lista, fazemos:\n",
    "\n",
    "```python\n",
    "max(lista)\n",
    "```\n",
    "\n",
    "> __Nota:__ Para aplicar a função `max()` é necessário que nossa lista seja composta de apenas um tipo de dado, por exemplo, seja uma lista de inteiros."
   ]
  },
  {
   "cell_type": "code",
   "execution_count": null,
   "metadata": {},
   "outputs": [],
   "source": [
    "max(lista)"
   ]
  },
  {
   "cell_type": "markdown",
   "metadata": {},
   "source": [
    "#### min()\n",
    "\n",
    "Retorna o menor valor de uma lista e para isso recebe a lista em questão como parâmetro de entrada `min(lista)`. Para aplicar a função `min()` em nossa lista, fazemos:\n",
    "\n",
    "```python\n",
    "min(lista)\n",
    "```\n",
    "\n",
    "> __Nota:__ Para aplicar a função `min()` é necessário que nossa lista seja composta de apenas um tipo de dado, por exemplo, seja uma lista de inteiros."
   ]
  },
  {
   "cell_type": "code",
   "execution_count": null,
   "metadata": {},
   "outputs": [],
   "source": [
    "min(lista)"
   ]
  },
  {
   "cell_type": "markdown",
   "metadata": {},
   "source": [
    "## Tuplas\n",
    "\n",
    "Tuplas são muito similares às listas vistas acima, com apenas uma exceção:\n",
    "\n",
    "> Tuplas são imutáveis, ou seja; Uma vez criada, uma tupla mantém seu valor até o final da execução do programa.\n",
    "\n",
    "Para criar uma tupla podemos simplesmente:\n",
    "\n",
    "```python\n",
    "tupla = (2, 4, 22, 'Morango')\n",
    "```"
   ]
  },
  {
   "cell_type": "code",
   "execution_count": null,
   "metadata": {},
   "outputs": [],
   "source": [
    "tupla = (2, 4, 22, 'Morango')\n",
    "\n",
    "tupla"
   ]
  },
  {
   "cell_type": "markdown",
   "metadata": {},
   "source": [
    "Podemos aplicar as funções `len()`, `max()` e `min()` da mesma forma em nossa tupla:\n",
    "\n",
    "```python\n",
    "print(len(tupla))\n",
    "print(max(tupla))\n",
    "print(min(tupla))\n",
    "```\n",
    "\n",
    "> __Nota:__ Para aplicar as funções `max()` e `min()` vale a mesma regra; É necessário que nossa tupla seja composta de apenas um tipo de dado, por exemplo, seja uma tupla de inteiros."
   ]
  },
  {
   "cell_type": "code",
   "execution_count": null,
   "metadata": {},
   "outputs": [],
   "source": [
    "print(len(tupla))"
   ]
  },
  {
   "cell_type": "markdown",
   "metadata": {},
   "source": [
    "Podemos acessar um dado específico em uma tupla da mesma maneira que fazemos em uma lista:\n",
    "\n",
    "```python\n",
    "print(tupla[0])\n",
    "print(tupla[3])\n",
    "```"
   ]
  },
  {
   "cell_type": "code",
   "execution_count": null,
   "metadata": {},
   "outputs": [],
   "source": [
    "print(tupla[0])\n",
    "print(tupla[3])"
   ]
  },
  {
   "cell_type": "markdown",
   "metadata": {},
   "source": [
    "## Dicionários\n",
    "\n",
    "Dicionários são estruturas de dados compostas de chave : valor, por exemplo:\n",
    "\n",
    "```python\n",
    "novo_dicionario = {\n",
    "    \"nome\" : \"Carlos\",\n",
    "    \"idade\" : 41,\n",
    "    \"sexo\" : \"M\",\n",
    "    \"peso\" : 97,\n",
    "    \"casado\" : True\n",
    "}\n",
    "```\n",
    "\n",
    "Cada par de informação nessa estrutura de dados é composta por sua chave e valor correspondente, desta forma identificamos o valor __Carlos__ na chave __nome__ e o valor __97__ na chave __peso__.\n",
    "\n",
    "Podemos acessar as informações do nosso dicionário diretamente por sua chave, como fazemos com um ```array``` por seu índice:"
   ]
  },
  {
   "cell_type": "code",
   "execution_count": 71,
   "metadata": {},
   "outputs": [
    {
     "name": "stdout",
     "output_type": "stream",
     "text": [
      "Carlos\n",
      "41\n",
      "M\n",
      "97\n",
      "True\n"
     ]
    }
   ],
   "source": [
    "novo_dicionario = {\n",
    "    \"nome\" : \"Carlos\",\n",
    "    \"idade\" : 41,\n",
    "    \"sexo\" : \"M\",\n",
    "    \"peso\" : 97,\n",
    "    \"casado\" : True\n",
    "}\n",
    "\n",
    "# Imprime o valor referenciado pela chave em questão\n",
    "print(novo_dicionario['nome'])\n",
    "print(novo_dicionario['idade'])\n",
    "print(novo_dicionario['sexo'])\n",
    "print(novo_dicionario['peso'])\n",
    "print(novo_dicionario['casado'])"
   ]
  },
  {
   "cell_type": "code",
   "execution_count": 73,
   "metadata": {},
   "outputs": [
    {
     "data": {
      "text/plain": [
       "dict_values(['Carlos', 41, 'M', 97, True])"
      ]
     },
     "execution_count": 73,
     "metadata": {},
     "output_type": "execute_result"
    }
   ],
   "source": [
    "novo_dicionario.values()"
   ]
  },
  {
   "cell_type": "markdown",
   "metadata": {},
   "source": [
    "Podemos identificar a existência de uma determinada chave em um dicionário da seguinte forma:\n",
    "    \n",
    "```python\n",
    "'nome' in novo_dicionario\n",
    "```\n",
    "\n",
    "Retornará True caso positivo e False caso negativo, veja exemplo:"
   ]
  },
  {
   "cell_type": "code",
   "execution_count": null,
   "metadata": {},
   "outputs": [],
   "source": [
    "# Imprime se encontra chave específica no dicionário\n",
    "print('nome' in novo_dicionario)\n",
    "print('endereco' in novo_dicionario)"
   ]
  },
  {
   "cell_type": "markdown",
   "metadata": {},
   "source": [
    "Podemos também criar um dicionário instanciando um dicionário vazio em uma variável:\n",
    "\n",
    "```python\n",
    "outro_dicionario = dict()\n",
    "```\n",
    "\n",
    "Após iniciar este novo dicionário podemos preencher seu conteúdo atacando sua chave diretamente; Caso a chave já exista, seu valor será atualizado pelo novo valor fornecido, caso não exista, um novo valor é incluído ao dicionário representado pela chave atribuída, por exemplo:\n",
    "\n",
    "```python\n",
    "outro_dicionario['nome'] = 'Raul'\n",
    "outro_dicionario['idade'] = 88\n",
    "outro_dicionario['sexo'] = 'M'\n",
    "outro_dicionario['peso'] = 80\n",
    "outro_dicionario['casado'] = False\n",
    "```\n",
    "\n",
    "Vamos imprimir os dois dicionários e ver o resultado?"
   ]
  },
  {
   "cell_type": "code",
   "execution_count": null,
   "metadata": {},
   "outputs": [],
   "source": [
    "# Criamos uma instância de dicionário\n",
    "outro_dicionario = dict()\n",
    "\n",
    "# Atribuímos seus valores através de suas chaves\n",
    "outro_dicionario['nome'] = 'Raul'\n",
    "outro_dicionario['idade'] = 88\n",
    "outro_dicionario['sexo'] = 'M'\n",
    "outro_dicionario['peso'] = 80\n",
    "outro_dicionario['casado'] = False"
   ]
  },
  {
   "cell_type": "code",
   "execution_count": null,
   "metadata": {},
   "outputs": [],
   "source": [
    "print(novo_dicionario)"
   ]
  },
  {
   "cell_type": "code",
   "execution_count": null,
   "metadata": {},
   "outputs": [],
   "source": [
    "print(outro_dicionario)"
   ]
  },
  {
   "cell_type": "markdown",
   "metadata": {},
   "source": [
    "## Condicionais\n",
    "\n",
    "Condições são executadas caso seu valor de comparação retorne positivo, isso é; Se algo for verdade, então, faça alguma coisa. Senão, faça outra coisa.\n",
    "\n",
    "Condições são representadas pelos *if/else statement* e podemos ler da seguinte maneira:\n",
    "```\n",
    "Se <condição>, então:\n",
    "    Faça isso.\n",
    "Ou se <condição>, então:\n",
    "    Faça isso.\n",
    "Senão:\n",
    "    Faça isso.\n",
    "```\n",
    "    \n",
    "Seu relativo em Python seria:\n",
    "\n",
    "```python\n",
    "var_a = 32\n",
    "\n",
    "if var_a < 40:\n",
    "    print('É menor que 40')\n",
    "elif var_a == 40:\n",
    "    print('É igual a 40')\n",
    "else:\n",
    "    print('É maior que 40)\n",
    "```"
   ]
  },
  {
   "cell_type": "code",
   "execution_count": 40,
   "metadata": {},
   "outputs": [
    {
     "name": "stdout",
     "output_type": "stream",
     "text": [
      "É menor que 40\n"
     ]
    }
   ],
   "source": [
    "var_a = 32\n",
    "\n",
    "if var_a < 40:\n",
    "    print('É menor que 40')\n",
    "elif var_a == 40:\n",
    "    print('É igual a 40')\n",
    "else:\n",
    "    print('É maior que 40')"
   ]
  },
  {
   "cell_type": "markdown",
   "metadata": {},
   "source": [
    "Podemos, inclusive, verificar se um dado número é ímpar ou par. Lembra do operador *módulo* (**%**)?\n",
    "\n",
    "Sabemos que um número par é sempre divisível por 2, então o resto de sua divisão por 2 será sempre 0, certo?\n",
    "\n",
    "Vamos verificar:"
   ]
  },
  {
   "cell_type": "code",
   "execution_count": null,
   "metadata": {},
   "outputs": [],
   "source": [
    "numero_1 = 468\n",
    "numero_2 = 37\n",
    "\n",
    "# Verificando o resto da divisão por 2\n",
    "print(numero_1 % 2)\n",
    "print(numero_2 % 2)"
   ]
  },
  {
   "cell_type": "markdown",
   "metadata": {},
   "source": [
    "Podemos aplicar lógica de comparação para verificar se o valor resultante da operação é igual a 0:"
   ]
  },
  {
   "cell_type": "code",
   "execution_count": null,
   "metadata": {},
   "outputs": [],
   "source": [
    "print(numero_1 % 2 == 0)\n",
    "print(numero_2 % 2 == 0)"
   ]
  },
  {
   "cell_type": "markdown",
   "metadata": {},
   "source": [
    "Verificamos que a variável ```numero_1``` guarda um número onde o resto de sua divisão pelo número 2 é 0; e a variável ```numero_2``` guarda um número onde o resto de sua divisão pelo número 2 é 1.\n",
    "\n",
    "Faz sentido se pensarmos que ao dividir 468 por 2, temos o valor exato de 234. Já quando dividimos 37 por 2, temos o valor 18 e resto 1.\n",
    "\n",
    "Podemos unir o que verificamos acima em uma condição **if/else** para imprimir uma string ao usuário, por exemplo:"
   ]
  },
  {
   "cell_type": "code",
   "execution_count": null,
   "metadata": {},
   "outputs": [],
   "source": [
    "if numero_1 % 2 == 0:\n",
    "    print('Primeiro número é par')\n",
    "else:\n",
    "    print('Primeiro número é ímpar')\n",
    "    \n",
    "\n",
    "if numero_2 % 2 == 0:\n",
    "    print('Segundo número é par')\n",
    "else:\n",
    "    print('Segundo número é ímpar')"
   ]
  },
  {
   "cell_type": "markdown",
   "metadata": {},
   "source": [
    "## Loops\n",
    "\n",
    "Existem dois tipos de loops em Python, são eles:\n",
    "\n",
    "### For Loops\n",
    "\n",
    "Varrem uma lista/array de informação e executam um bloco de ação para cada item encontrado ou para cada instância de execução, por exemplo:\n",
    "\n",
    "```\n",
    "Para cada item em uma lista de itens, faça:\n",
    "    Bloco de ação\n",
    "```\n",
    "\n",
    "Em Python, temos:\n",
    "\n",
    "```python\n",
    "for item in lista_itens:\n",
    "    print(item)\n",
    "```\n",
    "\n",
    "Seja `lista_itens` uma lista ou array qualquer, o **for** irá percorrer cada item da lista, imprimindo seu valor ao usuário:"
   ]
  },
  {
   "cell_type": "code",
   "execution_count": null,
   "metadata": {
    "scrolled": true
   },
   "outputs": [],
   "source": [
    "lista_itens = ['Raul', 'José', 23, 44, True, False]\n",
    "\n",
    "for item in lista_itens:\n",
    "    print(item)"
   ]
  },
  {
   "cell_type": "markdown",
   "metadata": {},
   "source": [
    "Podemos receber uma tupla de informação contendo o valor do item e sua posição no array de informação utilizando a função ```enumerate()``` junto a nosso **for loop**, por exemplo:"
   ]
  },
  {
   "cell_type": "code",
   "execution_count": null,
   "metadata": {
    "scrolled": true
   },
   "outputs": [],
   "source": [
    "for index, item in enumerate(lista_itens):\n",
    "    print('Item : {0} na posição {1} da lista'.format(item, index))"
   ]
  },
  {
   "cell_type": "markdown",
   "metadata": {},
   "source": [
    "### While Loops\n",
    "\n",
    "Executam um bloco de ação enquanto alguma condição é satisfeita, por exemplo:\n",
    "\n",
    "```\n",
    "Enquanto condição é satisfeita, faça:\n",
    "    Bloco de ação\n",
    "```\n",
    "\n",
    "Em Python, temos:\n",
    " \n",
    "```python\n",
    "contador = 0\n",
    "\n",
    "while contador < 10:\n",
    "    contador += 1\n",
    "```\n",
    "\n",
    "No exemplo acima declaramos uma variável `contador` e atribuímos 0 ao seu valor. Executamos um __while loop__ e dentro deste loop somamos 1 ao valor do contador. O loop é executado enquanto o valor de `contador` seja menor que 10."
   ]
  },
  {
   "cell_type": "code",
   "execution_count": null,
   "metadata": {},
   "outputs": [],
   "source": [
    "contador = 0\n",
    "\n",
    "while contador < 10:\n",
    "    contador += 1\n",
    "    \n",
    "print(contador)"
   ]
  },
  {
   "cell_type": "markdown",
   "metadata": {},
   "source": [
    "Dentro dos loops temos também o **break statement** e o **continue statement** que nos permite terminar um loop dependendo de uma certa condição (utilizando **break**) ou ignorar um loop dependendo de uma certa condição (utilizando **continue**).\n",
    "\n",
    "Para exemplificar, vamos imaginar que temos uma lista onde queremos somar seus valores, porém, queremos que caso o valor seja o número 7 a soma não ocorra e caso o número seja 10, a soma dos valores desta lista seja interrompida.\n",
    "\n",
    "Podemos atingir o desejado utilizando **break** e **continue**:"
   ]
  },
  {
   "cell_type": "code",
   "execution_count": null,
   "metadata": {},
   "outputs": [],
   "source": [
    "lista = [1, 6, 4, 7, 9, 33, 10, 42, 98]\n",
    "\n",
    "contador = 0\n",
    "\n",
    "for item in lista:\n",
    "    if item == 7:\n",
    "        continue\n",
    "    elif item == 10:\n",
    "        break\n",
    "    else:\n",
    "        contador += item\n",
    "        \n",
    "print(contador)"
   ]
  },
  {
   "cell_type": "markdown",
   "metadata": {},
   "source": [
    "O loop acima executou exatamente a soma dos números 1, 6, 4, 9 e 33 totalizando 53.\n",
    "\n",
    "$$\n",
    "1+6+4+9+33=53\n",
    "$$\n",
    "\n",
    "Respeitando nossa condição de **continue** caso o número seja 7 e **break** caso o número seja 10.\n",
    "\n",
    "Por curiosidade, vamos executar esta soma diretamente com Python:"
   ]
  },
  {
   "cell_type": "code",
   "execution_count": null,
   "metadata": {},
   "outputs": [],
   "source": [
    "1 + 6 + 4 + 9 + 33"
   ]
  },
  {
   "cell_type": "markdown",
   "metadata": {},
   "source": [
    "## Funções\n",
    "\n",
    "Funções são blocos de código capazes de efetuar uma determinada ação toda vez que são chamados. Vimos acima alguns exemplos de funções como quando utilizamos ```enumerate()``` para retornar uma tupla em nosso **for loop** ou a própria função ```print()``` que utilizamos para imprimir valores na tela.\n",
    "\n",
    "Funções podem ou não receber valores como parâmetros, vale lembrar que estes valores são apenas visíveis ao bloco da função, ou seja, não tem definição fora deste bloco ([escopo](https://pt.wikipedia.org/wiki/Escopo_(computa%C3%A7%C3%A3o))).\n",
    "\n",
    "Podemos declarar uma função em Python da seguinte forma:\n",
    "\n",
    "```python\n",
    "def nome_da_funcao():\n",
    "    #bloco de código dentro do escopo da função\n",
    "```\n",
    "\n",
    "Por exemplo, vamos declarar uma função ```print_bom_dia()``` que vai imprimir na tela a string \"Bom dia!\":"
   ]
  },
  {
   "cell_type": "code",
   "execution_count": null,
   "metadata": {},
   "outputs": [],
   "source": [
    "def print_bom_dia():\n",
    "    print('Bom dia!')\n",
    "    \n",
    "# Executa a função criada acima\n",
    "print_bom_dia()"
   ]
  },
  {
   "cell_type": "markdown",
   "metadata": {},
   "source": [
    "Podemos executar nossa função ao invocá-la no código como demonstrado em `print_bom_dia()`.\n",
    "\n",
    "Certo, mas essa função é muito simples... Que tal enviarmos um nome como parâmetro para a função e imprimir uma string de bom dia dinâmica com o valor deste parâmetro de *input*?\n",
    "\n",
    "Vamos declarar uma variável de parâmetro para a função que receberá o nome desejado:"
   ]
  },
  {
   "cell_type": "code",
   "execution_count": null,
   "metadata": {},
   "outputs": [],
   "source": [
    "def print_bom_dia(nome):\n",
    "    print('Bom dia, {0}!'.format(nome))\n",
    "    \n",
    "# Executa a função criada acima, passando Jorge como parâmetro\n",
    "print_bom_dia('Jorge')"
   ]
  },
  {
   "cell_type": "markdown",
   "metadata": {},
   "source": [
    "Além disso podemos também determinar valores _default_ para nossos parâmetros de entrada, isso significa que, caso nada seja passado como parâmetro para a função, este valor padrão será utilizado:"
   ]
  },
  {
   "cell_type": "code",
   "execution_count": null,
   "metadata": {},
   "outputs": [],
   "source": [
    "def print_bom_dia(nome = 'Raul'):\n",
    "    print('Bom dia, {0}!'.format(nome))\n",
    "    \n",
    "# Executa a função criada acima, passando Jorge como parâmetro\n",
    "print_bom_dia('Jorge')\n",
    "# Executa a função criada acima, utilizando o valor padrão para o parâmetro nome\n",
    "print_bom_dia()"
   ]
  },
  {
   "cell_type": "markdown",
   "metadata": {},
   "source": [
    "Podemos passar a uma função quantos valores de parâmetro julgarmos necessário, lembrando que temos que respeitar a ordem que declaramos esses parâmetros quando utilizamos a função, por exemplo:\n",
    "\n",
    "```python\n",
    "def funcao(nome, idade, sexo):\n",
    "    # código...\n",
    "    \n",
    "funcao('Jorge', 32, 'masculino')\n",
    "```\n",
    "\n",
    "Ou podemos referenciar cada parâmetro, neste caso, não importando a ordem em que foram declarados:\n",
    "\n",
    "```python\n",
    "def funcao(nome, idade, sexo):\n",
    "    # código...\n",
    "    \n",
    "funcao(idade = 23, sexo = 'feminino', nome = 'Gabrielle')\n",
    "```"
   ]
  },
  {
   "cell_type": "code",
   "execution_count": null,
   "metadata": {},
   "outputs": [],
   "source": [
    "def funcao(nome, idade, sexo):\n",
    "    print('{0} tem {1} anos, sexo {2}'.format(nome, idade, sexo))\n",
    "    \n",
    "funcao('Jorge', 32, 'masculino')\n",
    "funcao(idade = 23, sexo = 'feminino', nome = 'Gabrielle')"
   ]
  },
  {
   "cell_type": "markdown",
   "metadata": {},
   "source": [
    "Vimos a possibilidade acima de retornar uma tupla quando utilizamos a função ```enumerate()```, vamos criar nossa própria função que retorna o valor de um número elevado a potência de 2 e multiplicado por 2:\n",
    "\n",
    "```python\n",
    "def retorna_tupla(numero):\n",
    "    return (numero ** 2, numero * 2)\n",
    "```\n",
    "\n",
    "Note que utilizamos a palavra reservada **return** passando uma tupla com duas expressões matemáticas dentro. \n",
    "\n",
    "> __Nota:__ Como o nome diz, **return** nos retorna um valor, é utilizada toda vez que uma função tem algum retorno.\n",
    "\n",
    "No caso demonstrado acima, nossa função está retornando uma tupla de valores, onde estes valores são as operações matemáticas.\n",
    "\n",
    "Para simplificar o entendimento, poderíamos reescrever está mesma função da seguinte forma:\n",
    "\n",
    "```python\n",
    "def retorna_tupla(numero):\n",
    "    valor_potencia = numero ** 2\n",
    "    valor_multiplicacao = numero * 2\n",
    "    return (valor_potencia, valor_multiplicacao)\n",
    "```\n",
    "\n",
    "Para receber estes valores, basta separar por vírgula nossas variáveis que receberão os *outputs* da função:\n",
    "\n",
    "```python\n",
    "retorno_potencia, retorno_multiplicacao = retorna_tupla(8)\n",
    "```\n",
    "\n",
    "Neste caso, receberíamos os valores das operações:\n",
    "\n",
    "$$8^2$$ e $$ 8\\times2$$"
   ]
  },
  {
   "cell_type": "code",
   "execution_count": null,
   "metadata": {},
   "outputs": [],
   "source": [
    "def retorna_tupla(numero):\n",
    "    return (numero ** 2, numero * 2)\n",
    "\n",
    "retorno_potencia, retorno_multiplicacao = retorna_tupla(8)\n",
    "\n",
    "print(retorno_potencia)\n",
    "print(retorno_multiplicacao)"
   ]
  },
  {
   "cell_type": "markdown",
   "metadata": {},
   "source": [
    "--------------\n",
    "\n",
    "## Exercícios\n",
    "\n",
    "### Aritmética\n",
    "\n",
    "__1.__ Crie uma variável `resultado` que recebe o valor da operação $3\\times(4 + 7)$ e imprima seu resultado."
   ]
  },
  {
   "cell_type": "code",
   "execution_count": 62,
   "metadata": {},
   "outputs": [
    {
     "name": "stdout",
     "output_type": "stream",
     "text": [
      "33\n"
     ]
    }
   ],
   "source": [
    "# Resolução do problema\n",
    "resultado = 3*(4+7)\n",
    "print(resultado)"
   ]
  },
  {
   "cell_type": "markdown",
   "metadata": {},
   "source": [
    "__2.__ Utilizando a biblioteca `math` realize a operação $\\sqrt{4}$ e imprima seu resultado.\n",
    "\n",
    "> __Nota:__ Para importar a biblioteca `math` devemos incluir a linha `import math`, para executar o cálculo da raiz quadrada de um número, fazemos `math.sqrt(número)`."
   ]
  },
  {
   "cell_type": "code",
   "execution_count": 63,
   "metadata": {},
   "outputs": [
    {
     "name": "stdout",
     "output_type": "stream",
     "text": [
      "2.0\n"
     ]
    }
   ],
   "source": [
    "# Importando a biblioteca math\n",
    "import math\n",
    "\n",
    "# Resolução do problema\n",
    "print(math.sqrt(4))"
   ]
  },
  {
   "cell_type": "markdown",
   "metadata": {},
   "source": [
    "## Strings\n",
    "\n",
    "__1.__ Imprima seu nome."
   ]
  },
  {
   "cell_type": "code",
   "execution_count": 64,
   "metadata": {},
   "outputs": [
    {
     "name": "stdout",
     "output_type": "stream",
     "text": [
      "Fernando\n"
     ]
    }
   ],
   "source": [
    "# Resolução do problema\n",
    "print('Fernando')"
   ]
  },
  {
   "cell_type": "markdown",
   "metadata": {},
   "source": [
    "__2.__ O código abaixo retorna um erro de execução, você consegue identificar qual é este erro pela mensagem de retorno?"
   ]
  },
  {
   "cell_type": "code",
   "execution_count": 67,
   "metadata": {},
   "outputs": [
    {
     "name": "stdout",
     "output_type": "stream",
     "text": [
      "Este texto deveria ser impresso na tela\n"
     ]
    }
   ],
   "source": [
    "print('Este texto deveria ser impresso na tela')"
   ]
  },
  {
   "cell_type": "markdown",
   "metadata": {},
   "source": [
    "__3.__ Realize um cálculo qualquer e imprima seu resultado na tela utilizando a função `format()` seguindo o padrão: `'A operação _______ resulta o valor ______.'`"
   ]
  },
  {
   "cell_type": "code",
   "execution_count": 70,
   "metadata": {},
   "outputs": [
    {
     "name": "stdout",
     "output_type": "stream",
     "text": [
      "A operação 4 + 4 resulta o valor 8\n"
     ]
    }
   ],
   "source": [
    "# Resolução do problema\n",
    "print('A operação 4 + 4 resulta o valor {0}'.format(4+4))"
   ]
  },
  {
   "cell_type": "markdown",
   "metadata": {},
   "source": [
    "## Listas\n",
    "\n",
    "__1.__ Incluir os valores `'Abril'`, `'Junho'` e `'Outubro'` na lista de meses respeitando a ordenação dos meses."
   ]
  },
  {
   "cell_type": "code",
   "execution_count": null,
   "metadata": {},
   "outputs": [],
   "source": [
    "meses = ['Janeiro', 'Fevereiro', 'Março', 'Maio', 'Julho', 'Agosto', 'Setembro', 'Novembro', 'Dezembro']\n",
    "\n",
    "# Resolução do problema\n",
    "meses.inser()"
   ]
  },
  {
   "cell_type": "markdown",
   "metadata": {},
   "source": [
    "__2.__ Existem valores numéricos na lista de estados, remova estes valores e ordene a lista final.\n",
    "\n",
    "> __Nota:__ Existe um erro de digitação em um dos estados da lista, você consegue corrigir este erro?"
   ]
  },
  {
   "cell_type": "code",
   "execution_count": 59,
   "metadata": {},
   "outputs": [
    {
     "data": {
      "text/plain": [
       "['AC', 'DF', 'ES', 'PA', 'RJ', 'SP']"
      ]
     },
     "execution_count": 59,
     "metadata": {},
     "output_type": "execute_result"
    }
   ],
   "source": [
    "estados = ['RJ', 'DF', 'PS', 44, 'PA', 9.33, 'AC', 'Gilson', 12, 'ES']\n",
    "\n",
    "# Resolução do problema\n",
    "nova_lista = list()\n",
    "\n",
    "for item in estados:\n",
    "    if type(item) == str and len(item) <= 2:\n",
    "        nova_lista.append(item)\n",
    "\n",
    "nova_lista[2] = 'SP'\n",
    "nova_lista.sort()\n",
    "nova_lista"
   ]
  },
  {
   "cell_type": "markdown",
   "metadata": {},
   "source": [
    "## Tuplas\n",
    "\n",
    "__1.__ Imprima todos os valores da tupla abaixo."
   ]
  },
  {
   "cell_type": "code",
   "execution_count": 74,
   "metadata": {},
   "outputs": [
    {
     "name": "stdout",
     "output_type": "stream",
     "text": [
      "6\n",
      "77\n",
      "42\n",
      "10\n"
     ]
    }
   ],
   "source": [
    "tupla = (6, 77, 42, 10)\n",
    "\n",
    "# Resolução do problema\n",
    "for item in tupla:\n",
    "    print(item)"
   ]
  },
  {
   "cell_type": "markdown",
   "metadata": {},
   "source": [
    "__2.__ Tente descobrir o motivo do erro abaixo."
   ]
  },
  {
   "cell_type": "code",
   "execution_count": 41,
   "metadata": {},
   "outputs": [
    {
     "ename": "TypeError",
     "evalue": "'tuple' object does not support item assignment",
     "output_type": "error",
     "traceback": [
      "\u001b[0;31m---------------------------------------------------------------------------\u001b[0m",
      "\u001b[0;31mTypeError\u001b[0m                                 Traceback (most recent call last)",
      "\u001b[0;32m<ipython-input-41-6fa6eccab386>\u001b[0m in \u001b[0;36m<module>\u001b[0;34m\u001b[0m\n\u001b[1;32m      1\u001b[0m \u001b[0mtupla\u001b[0m \u001b[0;34m=\u001b[0m \u001b[0;34m(\u001b[0m\u001b[0;36m6\u001b[0m\u001b[0;34m,\u001b[0m \u001b[0;36m77\u001b[0m\u001b[0;34m,\u001b[0m \u001b[0;36m42\u001b[0m\u001b[0;34m,\u001b[0m \u001b[0;36m10\u001b[0m\u001b[0;34m)\u001b[0m\u001b[0;34m\u001b[0m\u001b[0;34m\u001b[0m\u001b[0m\n\u001b[1;32m      2\u001b[0m \u001b[0;34m\u001b[0m\u001b[0m\n\u001b[0;32m----> 3\u001b[0;31m \u001b[0mtupla\u001b[0m\u001b[0;34m[\u001b[0m\u001b[0;36m2\u001b[0m\u001b[0;34m]\u001b[0m \u001b[0;34m=\u001b[0m \u001b[0;36m99\u001b[0m\u001b[0;34m\u001b[0m\u001b[0;34m\u001b[0m\u001b[0m\n\u001b[0m\u001b[1;32m      4\u001b[0m \u001b[0;34m\u001b[0m\u001b[0m\n\u001b[1;32m      5\u001b[0m \u001b[0;31m# Resolução do problema\u001b[0m\u001b[0;34m\u001b[0m\u001b[0;34m\u001b[0m\u001b[0;34m\u001b[0m\u001b[0m\n",
      "\u001b[0;31mTypeError\u001b[0m: 'tuple' object does not support item assignment"
     ]
    }
   ],
   "source": [
    "tupla = (6, 77, 42, 10)\n",
    "\n",
    "tupla[2] = 99\n",
    "\n",
    "# Resolução do problema\n",
    "\n",
    "# Tupla não aceita esse tipo de operação."
   ]
  },
  {
   "cell_type": "markdown",
   "metadata": {},
   "source": [
    "## Dicionários\n",
    "\n",
    "__1.__ Crie um dicionário que guarde as seguintes informações:\n",
    "\n",
    " 1. Um time de futebol identificado pela chave `time`.\n",
    " 2. Um texto qualquer identificado pela chave `texto`.\n"
   ]
  },
  {
   "cell_type": "code",
   "execution_count": 76,
   "metadata": {},
   "outputs": [],
   "source": [
    "# Resolução do problema\n",
    "dicionario = {\n",
    "    'time' : 'Brasil',\n",
    "    'texto' : 'É tetraaaaaaaaaa!'\n",
    "}"
   ]
  },
  {
   "cell_type": "markdown",
   "metadata": {},
   "source": [
    "__2.__ Imprima os valores de seu dicionário criado no exercício 1 seguindo o padrão `'O time que escolhi foi o _________ e meu texto é ___________.'`"
   ]
  },
  {
   "cell_type": "code",
   "execution_count": 77,
   "metadata": {},
   "outputs": [
    {
     "name": "stdout",
     "output_type": "stream",
     "text": [
      "O time que escolhi foi o Brasil e meu texto é É tetraaaaaaaaaa!\n"
     ]
    }
   ],
   "source": [
    "# Resolução do problema\n",
    "print(f\"O time que escolhi foi o {dicionario['time']} e meu texto é {dicionario['texto']}\")"
   ]
  },
  {
   "cell_type": "markdown",
   "metadata": {},
   "source": [
    "## Condicionais\n",
    "\n",
    "__1.__ Faça uma condição que compara a variável `numero` e imprime `Número maior ou igual a 30.` caso o número seja maior ou igual a 30 e `Número menor que 30.` caso o número seja menor que 30."
   ]
  },
  {
   "cell_type": "code",
   "execution_count": 78,
   "metadata": {},
   "outputs": [
    {
     "name": "stdout",
     "output_type": "stream",
     "text": [
      "Número menor que 30.\n"
     ]
    }
   ],
   "source": [
    "numero = 27\n",
    "\n",
    "# Resolução do problema\n",
    "if numero >= 30:\n",
    "    print('Número maior ou igual a 30.')\n",
    "else:\n",
    "    print('Número menor que 30.')"
   ]
  },
  {
   "cell_type": "markdown",
   "metadata": {},
   "source": [
    "__2.__ Tente identificar o erro no bloco de código abaixo."
   ]
  },
  {
   "cell_type": "code",
   "execution_count": 79,
   "metadata": {},
   "outputs": [
    {
     "name": "stdout",
     "output_type": "stream",
     "text": [
      "O nome é Joaquim.\n"
     ]
    }
   ],
   "source": [
    "nome = 'Joaquim'\n",
    "\n",
    "if nome == 'Joaquim':\n",
    "    print('O nome é Joaquim.')\n",
    "else:\n",
    "    print('Outro nome.')\n",
    "    \n",
    "# Falta um \":\" na primeira linha do bloco if"
   ]
  },
  {
   "cell_type": "markdown",
   "metadata": {},
   "source": [
    "## Loops\n",
    "\n",
    "__1.__ Percorra a lista abaixo utilizando um __for loop__ e imprima o valor de cada índice."
   ]
  },
  {
   "cell_type": "code",
   "execution_count": 80,
   "metadata": {},
   "outputs": [
    {
     "name": "stdout",
     "output_type": "stream",
     "text": [
      "Jurassic Park\n",
      "Rambo\n",
      "Os Batutinhas\n",
      "Matrix\n"
     ]
    }
   ],
   "source": [
    "filmes = ['Jurassic Park', 'Rambo', 'Os Batutinhas', 'Matrix']\n",
    "\n",
    "# Resolução do problema\n",
    "for item in filmes:\n",
    "    print(item)"
   ]
  },
  {
   "cell_type": "markdown",
   "metadata": {},
   "source": [
    "__2.__ Utilizando um __while loop__ execute um loop até que a variável `contador` possua valor menor que 25. Para cada iteração some 1 ao `contador` e 25 a variável `soma`."
   ]
  },
  {
   "cell_type": "code",
   "execution_count": 81,
   "metadata": {},
   "outputs": [
    {
     "name": "stdout",
     "output_type": "stream",
     "text": [
      "625\n"
     ]
    }
   ],
   "source": [
    "contador = 0\n",
    "soma = 0\n",
    "\n",
    "# Resolução do problema\n",
    "while contador < 25:\n",
    "    soma += 25\n",
    "    contador += 1\n",
    "    \n",
    "print(soma)"
   ]
  },
  {
   "cell_type": "markdown",
   "metadata": {},
   "source": [
    "## Funções\n",
    "\n",
    "__1.__ Crie uma função que receba como parâmetro a lista `valores` e retorne a soma de todos os valores da lista."
   ]
  },
  {
   "cell_type": "code",
   "execution_count": 83,
   "metadata": {},
   "outputs": [
    {
     "name": "stdout",
     "output_type": "stream",
     "text": [
      "998\n"
     ]
    }
   ],
   "source": [
    "valores = [55, 92, 425, 86, 10, 64, 89, 177]\n",
    "\n",
    "# Resolução do problema\n",
    "soma = 0\n",
    "\n",
    "for item in valores:\n",
    "    soma += item\n",
    "    \n",
    "print(soma)"
   ]
  },
  {
   "cell_type": "markdown",
   "metadata": {},
   "source": [
    "__2.__ Crie uma função que receba como parâmetro a mesma lista de valores mas que retorna apenas a soma dos números ímpares da lista."
   ]
  },
  {
   "cell_type": "code",
   "execution_count": 89,
   "metadata": {},
   "outputs": [
    {
     "name": "stdout",
     "output_type": "stream",
     "text": [
      "746\n"
     ]
    }
   ],
   "source": [
    "valores = [55, 92, 425, 86, 10, 64, 89, 177]\n",
    "\n",
    "# Resolução do problema\n",
    "soma = 0\n",
    "\n",
    "for item in valores:\n",
    "    if item % 2 != 0:\n",
    "        soma += item\n",
    "        \n",
    "print(soma)"
   ]
  },
  {
   "cell_type": "markdown",
   "metadata": {},
   "source": [
    "__3.__ Crie uma função que receba como parâmetro uma string qualquer, substitua as vogais pela letra `'q'` e retorne o resultado obtido."
   ]
  },
  {
   "cell_type": "code",
   "execution_count": 92,
   "metadata": {},
   "outputs": [
    {
     "name": "stdout",
     "output_type": "stream",
     "text": [
      "['f', 'q', 'r', 'n', 'q', 'n', 'd', 'q', ' ', 'm', 'q', 'q', 'n', 'q', 't', 't', 'q', ' ', 's', 'q', 'c', 'q', 'l']\n",
      "fqrnqndq mqqnqttq sqcql\n"
     ]
    }
   ],
   "source": [
    "# Resolução do problema\n",
    "texto = 'fernando mainetti secol'\n",
    "\n",
    "nova_string = list()\n",
    "\n",
    "for item in texto:\n",
    "    if item in 'aeiou':\n",
    "        nova_string.append('q')\n",
    "    else:\n",
    "        nova_string.append(item)\n",
    "    \n",
    "print(nova_string)\n",
    "\n",
    "nova_string = ''.join(nova_string)\n",
    "\n",
    "print(nova_string)"
   ]
  },
  {
   "cell_type": "markdown",
   "metadata": {},
   "source": [
    "# Extra\n",
    "\n",
    "Crie uma função `calcula_knn(k, lista_pontos, ponto)` que recebe a lista de pontos conhecidas, um um k = 3 e calcula a qual classe o modelo classifica o ponto não conhecido.\n",
    "\n",
    "Lembre que esse algoritmo utiliza do cálculo das distâncias entre os pontos conhecidos em relação ao novo ponto $\\sqrt{(X_a - X_b)^2 + (Y_a - Yb)^2}$. Através do K comparativo, ele analisa as K menores distâncias para classificar o novo ponto.\n",
    "\n",
    "Lembre de utilizar um valor de K compatível com o número de classes existentes na sua lista de pontos."
   ]
  },
  {
   "cell_type": "code",
   "execution_count": 61,
   "metadata": {},
   "outputs": [],
   "source": [
    "lista_pontos = [\n",
    "    {\n",
    "        'ponto' : (10, 11),\n",
    "        'classe' : 'A'\n",
    "    },\n",
    "    {\n",
    "        'ponto' : (11, 13),\n",
    "        'classe' : 'A'\n",
    "    },\n",
    "    {\n",
    "        'ponto' : (14, 12),\n",
    "        'classe' : 'A'\n",
    "    },\n",
    "    {\n",
    "        'ponto' : (11, 15),\n",
    "        'classe' : 'A'\n",
    "    },\n",
    "    {\n",
    "        'ponto' : (12, 11),\n",
    "        'classe' : 'A'\n",
    "    },\n",
    "    {\n",
    "        'ponto' : (10, 12),\n",
    "        'classe' : 'A'\n",
    "    },\n",
    "    {\n",
    "        'ponto' : (7, 8),\n",
    "        'classe' : 'B'\n",
    "    },\n",
    "    {\n",
    "        'ponto' : (6, 3),\n",
    "        'classe' : 'B'\n",
    "    },\n",
    "    {\n",
    "        'ponto' : (2, 2),\n",
    "        'classe' : 'B'\n",
    "    },\n",
    "    {\n",
    "        'ponto' : (5, 6),\n",
    "        'classe' : 'B'\n",
    "    },\n",
    "    {\n",
    "        'ponto' : (3, 1),\n",
    "        'classe' : 'B'\n",
    "    },\n",
    "    {\n",
    "        'ponto' : (1, 5),\n",
    "        'classe' : 'B'\n",
    "    }\n",
    "]\n",
    "\n",
    "novo_ponto = (8, 9)\n",
    "\n",
    "# Iteracao entre os pontos da minha lista conhecida\n",
    "# calcular a distancia entre o novo_ponto para cada ponto conhecido, salvar distancia na estrutura de tupla (distancia, classe)\n",
    "# lista_distancias = sorted(data, key=lambda x: x[0])"
   ]
  }
 ],
 "metadata": {
  "kernelspec": {
   "display_name": "Python 3",
   "language": "python",
   "name": "python3"
  },
  "language_info": {
   "codemirror_mode": {
    "name": "ipython",
    "version": 3
   },
   "file_extension": ".py",
   "mimetype": "text/x-python",
   "name": "python",
   "nbconvert_exporter": "python",
   "pygments_lexer": "ipython3",
   "version": "3.6.8"
  }
 },
 "nbformat": 4,
 "nbformat_minor": 4
}
